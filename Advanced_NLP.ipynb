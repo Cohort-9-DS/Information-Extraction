{
 "cells": [
  {
   "cell_type": "markdown",
   "metadata": {},
   "source": [
    "## Information extraction\n",
    "\n",
    "Much of the data out there is unstructured, that is, it is on blogs, other webpages etc. One example is a webpage for a news article. For such data, we are interested in different kinds of data that is hidden in the free text. We may ask:\n",
    "\n",
    "- Who wrote the article?\n",
    "- Where is it coming from?\n",
    "- What does it say?\n",
    "- Which entities (names, places, people, dates) are involved?\n",
    "\n",
    "What we also have in this article are relationships (what happened to who, where?)\n",
    "\n",
    "Let's give all this formal definitions:\n",
    "\n",
    "**Named entity**: Noun phrases that are of specific type and refer to specific individuals, places, organizations...\n",
    "\n",
    "**Named entity recognition**: Process of identifying named entities in text. \n",
    "    - Identify the mention\n",
    "    - Identify the tag\n",
    "**Relationship extraction**: Identify relationships between named entities     \n",
    "For example the word, Chicago. It could mean an album, a team or even a font!\n",
    "\n"
   ]
  },
  {
   "cell_type": "markdown",
   "metadata": {},
   "source": [
    "## Named Entity Extraction\n",
    "\n",
    "Named entities are noun phrases that refer to specific types of individuals, such as organizations, people, dates, etc. Therefore, the purpose of a named entity recognition (NER) system is to identify all textual mentions of the named entities.\n",
    "\n",
    "### spaCy\n",
    "\n",
    "In the following exercise, we'll build our own named entity recognition system with the Python module `spaCy`, a Python module commonly used for Natural Language Processing in industry. "
   ]
  },
  {
   "cell_type": "code",
   "execution_count": 2,
   "metadata": {
    "collapsed": true
   },
   "outputs": [],
   "source": [
    "import spacy\n",
    "import pandas as pd"
   ]
  },
  {
   "cell_type": "code",
   "execution_count": 3,
   "metadata": {
    "collapsed": true
   },
   "outputs": [
    {
     "ename": "RuntimeError",
     "evalue": "Model 'en' not installed. Please run 'python -m spacy.en.download' to install latest compatible model.",
     "output_type": "error",
     "traceback": [
      "\u001b[0;31m---------------------------------------------------------------------------\u001b[0m",
      "\u001b[0;31mPackageNotFoundException\u001b[0m                  Traceback (most recent call last)",
      "\u001b[0;32m~/anaconda3/lib/python3.6/site-packages/spacy/util.py\u001b[0m in \u001b[0;36mget_package_by_name\u001b[0;34m(name, via)\u001b[0m\n\u001b[1;32m     43\u001b[0m         return sputnik.package(about.__title__, about.__version__,\n\u001b[0;32m---> 44\u001b[0;31m             name, data_path=via)\n\u001b[0m\u001b[1;32m     45\u001b[0m     \u001b[0;32mexcept\u001b[0m \u001b[0mPackageNotFoundException\u001b[0m \u001b[0;32mas\u001b[0m \u001b[0me\u001b[0m\u001b[0;34m:\u001b[0m\u001b[0;34m\u001b[0m\u001b[0m\n",
      "\u001b[0;32m~/anaconda3/lib/python3.6/site-packages/sputnik/__init__.py\u001b[0m in \u001b[0;36mpackage\u001b[0;34m(app_name, app_version, package_string, data_path)\u001b[0m\n\u001b[1;32m    159\u001b[0m     \u001b[0mpool\u001b[0m \u001b[0;34m=\u001b[0m \u001b[0mPool\u001b[0m\u001b[0;34m(\u001b[0m\u001b[0mapp_name\u001b[0m\u001b[0;34m,\u001b[0m \u001b[0mapp_version\u001b[0m\u001b[0;34m,\u001b[0m \u001b[0mexpand_path\u001b[0m\u001b[0;34m(\u001b[0m\u001b[0mdata_path\u001b[0m\u001b[0;34m)\u001b[0m\u001b[0;34m)\u001b[0m\u001b[0;34m\u001b[0m\u001b[0m\n\u001b[0;32m--> 160\u001b[0;31m     \u001b[0;32mreturn\u001b[0m \u001b[0mpool\u001b[0m\u001b[0;34m.\u001b[0m\u001b[0mget\u001b[0m\u001b[0;34m(\u001b[0m\u001b[0mpackage_string\u001b[0m\u001b[0;34m)\u001b[0m\u001b[0;34m\u001b[0m\u001b[0m\n\u001b[0m\u001b[1;32m    161\u001b[0m \u001b[0;34m\u001b[0m\u001b[0m\n",
      "\u001b[0;32m~/anaconda3/lib/python3.6/site-packages/sputnik/package_list.py\u001b[0m in \u001b[0;36mget\u001b[0;34m(self, package_string)\u001b[0m\n\u001b[1;32m     56\u001b[0m         \u001b[0;32mif\u001b[0m \u001b[0;32mnot\u001b[0m \u001b[0mcandidates\u001b[0m\u001b[0;34m:\u001b[0m\u001b[0;34m\u001b[0m\u001b[0m\n\u001b[0;32m---> 57\u001b[0;31m             \u001b[0;32mraise\u001b[0m \u001b[0mPackageNotFoundException\u001b[0m\u001b[0;34m(\u001b[0m\u001b[0mpackage_string\u001b[0m\u001b[0;34m)\u001b[0m\u001b[0;34m\u001b[0m\u001b[0m\n\u001b[0m\u001b[1;32m     58\u001b[0m \u001b[0;34m\u001b[0m\u001b[0m\n",
      "\u001b[0;31mPackageNotFoundException\u001b[0m: en",
      "\nDuring handling of the above exception, another exception occurred:\n",
      "\u001b[0;31mRuntimeError\u001b[0m                              Traceback (most recent call last)",
      "\u001b[0;32m<ipython-input-3-76abff010c5f>\u001b[0m in \u001b[0;36m<module>\u001b[0;34m()\u001b[0m\n\u001b[0;32m----> 1\u001b[0;31m \u001b[0mnlp\u001b[0m \u001b[0;34m=\u001b[0m \u001b[0mspacy\u001b[0m\u001b[0;34m.\u001b[0m\u001b[0mload\u001b[0m\u001b[0;34m(\u001b[0m\u001b[0;34m'en'\u001b[0m\u001b[0;34m)\u001b[0m\u001b[0;34m\u001b[0m\u001b[0m\n\u001b[0m",
      "\u001b[0;32m~/anaconda3/lib/python3.6/site-packages/spacy/__init__.py\u001b[0m in \u001b[0;36mload\u001b[0;34m(name, vocab, tokenizer, parser, tagger, entity, matcher, serializer, vectors, via)\u001b[0m\n\u001b[1;32m     13\u001b[0m def load(name, vocab=None, tokenizer=None, parser=None, tagger=None, entity=None,\n\u001b[1;32m     14\u001b[0m          matcher=None, serializer=None, vectors=None, via=None):\n\u001b[0;32m---> 15\u001b[0;31m     \u001b[0mpackage\u001b[0m \u001b[0;34m=\u001b[0m \u001b[0mget_package_by_name\u001b[0m\u001b[0;34m(\u001b[0m\u001b[0mname\u001b[0m\u001b[0;34m,\u001b[0m \u001b[0mvia\u001b[0m\u001b[0;34m=\u001b[0m\u001b[0mvia\u001b[0m\u001b[0;34m)\u001b[0m\u001b[0;34m\u001b[0m\u001b[0m\n\u001b[0m\u001b[1;32m     16\u001b[0m     \u001b[0mvectors_package\u001b[0m \u001b[0;34m=\u001b[0m \u001b[0mget_package_by_name\u001b[0m\u001b[0;34m(\u001b[0m\u001b[0mvectors\u001b[0m\u001b[0;34m,\u001b[0m \u001b[0mvia\u001b[0m\u001b[0;34m=\u001b[0m\u001b[0mvia\u001b[0m\u001b[0;34m)\u001b[0m\u001b[0;34m\u001b[0m\u001b[0m\n\u001b[1;32m     17\u001b[0m     \u001b[0mcls\u001b[0m \u001b[0;34m=\u001b[0m \u001b[0mget_lang_class\u001b[0m\u001b[0;34m(\u001b[0m\u001b[0mname\u001b[0m\u001b[0;34m)\u001b[0m\u001b[0;34m\u001b[0m\u001b[0m\n",
      "\u001b[0;32m~/anaconda3/lib/python3.6/site-packages/spacy/util.py\u001b[0m in \u001b[0;36mget_package_by_name\u001b[0;34m(name, via)\u001b[0m\n\u001b[1;32m     46\u001b[0m         raise RuntimeError(\"Model '%s' not installed. Please run 'python -m \"\n\u001b[1;32m     47\u001b[0m                            \u001b[0;34m\"%s.download' to install latest compatible \"\u001b[0m\u001b[0;34m\u001b[0m\u001b[0m\n\u001b[0;32m---> 48\u001b[0;31m                            \"model.\" % (name, lang.__module__))\n\u001b[0m\u001b[1;32m     49\u001b[0m     \u001b[0;32mexcept\u001b[0m \u001b[0mCompatiblePackageNotFoundException\u001b[0m \u001b[0;32mas\u001b[0m \u001b[0me\u001b[0m\u001b[0;34m:\u001b[0m\u001b[0;34m\u001b[0m\u001b[0m\n\u001b[1;32m     50\u001b[0m         raise RuntimeError(\"Installed model is not compatible with spaCy \"\n",
      "\u001b[0;31mRuntimeError\u001b[0m: Model 'en' not installed. Please run 'python -m spacy.en.download' to install latest compatible model."
     ]
    }
   ],
   "source": [
    "nlp = spacy.load('en')"
   ]
  },
  {
   "cell_type": "code",
   "execution_count": 3,
   "metadata": {
    "collapsed": true
   },
   "outputs": [],
   "source": [
    "# Lets try it\n",
    "\n",
    "review = \"Columbia University was founded in 1754 as King's College by royal charter of King George II of England. It is the oldest institution of higher learning in the state of New York and the fifth oldest in the United States. Controversy preceded the founding of the College, with various groups competing to determine its location and religious affiliation. Advocates of New York City met with success on the first point, while the Anglicans prevailed on the latter. However, all constituencies agreed to commit themselves to principles of religious liberty in establishing the policies of the College. In July 1754, Samuel Johnson held the first classes in a new schoolhouse adjoining Trinity Church, located on what is now lower Broadway in Manhattan. There were eight students in the class. At King's College, the future leaders of colonial society could receive an education designed to 'enlarge the Mind, improve the Understanding, polish the whole Man, and qualify them to support the brightest Characters in all the elevated stations in life.'' One early manifestation of the institution's lofty goals was the establishment in 1767 of the first American medical school to grant the M.D. degree.\""
   ]
  },
  {
   "cell_type": "code",
   "execution_count": 4,
   "metadata": {},
   "outputs": [
    {
     "data": {
      "text/plain": [
       "Columbia University was founded in 1754 as King's College by royal charter of King George II of England. It is the oldest institution of higher learning in the state of New York and the fifth oldest in the United States. Controversy preceded the founding of the College, with various groups competing to determine its location and religious affiliation. Advocates of New York City met with success on the first point, while the Anglicans prevailed on the latter. However, all constituencies agreed to commit themselves to principles of religious liberty in establishing the policies of the College. In July 1754, Samuel Johnson held the first classes in a new schoolhouse adjoining Trinity Church, located on what is now lower Broadway in Manhattan. There were eight students in the class. At King's College, the future leaders of colonial society could receive an education designed to 'enlarge the Mind, improve the Understanding, polish the whole Man, and qualify them to support the brightest Characters in all the elevated stations in life.'' One early manifestation of the institution's lofty goals was the establishment in 1767 of the first American medical school to grant the M.D. degree."
      ]
     },
     "execution_count": 4,
     "metadata": {},
     "output_type": "execute_result"
    }
   ],
   "source": [
    "doc = nlp(review)\n",
    "doc"
   ]
  },
  {
   "cell_type": "code",
   "execution_count": 5,
   "metadata": {
    "collapsed": true
   },
   "outputs": [],
   "source": [
    "sentences = [sentence.orth_ for sentence in doc.sents] "
   ]
  },
  {
   "cell_type": "code",
   "execution_count": 6,
   "metadata": {},
   "outputs": [
    {
     "data": {
      "text/plain": [
       "[\"Columbia University was founded in 1754 as King's College by royal charter of King George II of England.\",\n",
       " 'It is the oldest institution of higher learning in the state of New York and the fifth oldest in the United States.',\n",
       " 'Controversy preceded the founding of the College, with various groups competing to determine its location and religious affiliation.',\n",
       " 'Advocates of New York City met with success on the first point, while the Anglicans prevailed on the latter.',\n",
       " 'However, all constituencies agreed to commit themselves to principles of religious liberty in establishing the policies of the College.',\n",
       " 'In July 1754, Samuel Johnson held the first classes in a new schoolhouse adjoining Trinity Church, located on what is now lower Broadway in Manhattan.',\n",
       " 'There were eight students in the class.',\n",
       " \"At King's College, the future leaders of colonial society could receive an education designed to 'enlarge the Mind, improve the Understanding, polish the whole Man, and qualify them to support the brightest Characters in all the elevated stations in life.''\",\n",
       " \"One early manifestation of the institution's lofty goals was the establishment in 1767 of the first American medical school to grant the M.D. degree.\"]"
      ]
     },
     "execution_count": 6,
     "metadata": {},
     "output_type": "execute_result"
    }
   ],
   "source": [
    "sentences"
   ]
  },
  {
   "cell_type": "code",
   "execution_count": 7,
   "metadata": {},
   "outputs": [
    {
     "name": "stdout",
     "output_type": "stream",
     "text": [
      "There were 9 sentences found.\n"
     ]
    }
   ],
   "source": [
    "sentences = [sentence.orth_ for sentence in doc.sents] # list of sentences\n",
    "print(\"There were {} sentences found.\".format(len(sentences)))"
   ]
  },
  {
   "cell_type": "code",
   "execution_count": 8,
   "metadata": {},
   "outputs": [
    {
     "name": "stdout",
     "output_type": "stream",
     "text": [
      "There were 52 noun phrases found.\n"
     ]
    }
   ],
   "source": [
    "nounphrases = [[np.orth_, np.root.head.orth_] for np in doc.noun_chunks]\n",
    "print(\"There were {} noun phrases found.\".format(len(nounphrases)))"
   ]
  },
  {
   "cell_type": "code",
   "execution_count": 9,
   "metadata": {},
   "outputs": [
    {
     "name": "stdout",
     "output_type": "stream",
     "text": [
      "There were 26 entities found\n"
     ]
    }
   ],
   "source": [
    "entities = list(doc.ents) # converts entities into a list\n",
    "print(\"There were {} entities found\".format(len(entities)))"
   ]
  },
  {
   "cell_type": "code",
   "execution_count": 16,
   "metadata": {},
   "outputs": [
    {
     "data": {
      "text/plain": [
       "[['Columbia',\n",
       "  'University',\n",
       "  'was',\n",
       "  'founded',\n",
       "  'in',\n",
       "  '1754',\n",
       "  'as',\n",
       "  'King',\n",
       "  \"'s\",\n",
       "  'College',\n",
       "  'by',\n",
       "  'royal',\n",
       "  'charter',\n",
       "  'of',\n",
       "  'King',\n",
       "  'George',\n",
       "  'II',\n",
       "  'of',\n",
       "  'England',\n",
       "  '.'],\n",
       " ['It',\n",
       "  'is',\n",
       "  'the',\n",
       "  'oldest',\n",
       "  'institution',\n",
       "  'of',\n",
       "  'higher',\n",
       "  'learning',\n",
       "  'in',\n",
       "  'the',\n",
       "  'state',\n",
       "  'of',\n",
       "  'New',\n",
       "  'York',\n",
       "  'and',\n",
       "  'the',\n",
       "  'fifth',\n",
       "  'oldest',\n",
       "  'in',\n",
       "  'the',\n",
       "  'United',\n",
       "  'States',\n",
       "  '.'],\n",
       " ['Controversy',\n",
       "  'preceded',\n",
       "  'the',\n",
       "  'founding',\n",
       "  'of',\n",
       "  'the',\n",
       "  'College',\n",
       "  ',',\n",
       "  'with',\n",
       "  'various',\n",
       "  'groups',\n",
       "  'competing',\n",
       "  'to',\n",
       "  'determine',\n",
       "  'its',\n",
       "  'location',\n",
       "  'and',\n",
       "  'religious',\n",
       "  'affiliation',\n",
       "  '.'],\n",
       " ['Advocates',\n",
       "  'of',\n",
       "  'New',\n",
       "  'York',\n",
       "  'City',\n",
       "  'met',\n",
       "  'with',\n",
       "  'success',\n",
       "  'on',\n",
       "  'the',\n",
       "  'first',\n",
       "  'point',\n",
       "  ',',\n",
       "  'while',\n",
       "  'the',\n",
       "  'Anglicans',\n",
       "  'prevailed',\n",
       "  'on',\n",
       "  'the',\n",
       "  'latter',\n",
       "  '.'],\n",
       " ['However',\n",
       "  ',',\n",
       "  'all',\n",
       "  'constituencies',\n",
       "  'agreed',\n",
       "  'to',\n",
       "  'commit',\n",
       "  'themselves',\n",
       "  'to',\n",
       "  'principles',\n",
       "  'of',\n",
       "  'religious',\n",
       "  'liberty',\n",
       "  'in',\n",
       "  'establishing',\n",
       "  'the',\n",
       "  'policies',\n",
       "  'of',\n",
       "  'the',\n",
       "  'College',\n",
       "  '.'],\n",
       " ['In',\n",
       "  'July',\n",
       "  '1754',\n",
       "  ',',\n",
       "  'Samuel',\n",
       "  'Johnson',\n",
       "  'held',\n",
       "  'the',\n",
       "  'first',\n",
       "  'classes',\n",
       "  'in',\n",
       "  'a',\n",
       "  'new',\n",
       "  'schoolhouse',\n",
       "  'adjoining',\n",
       "  'Trinity',\n",
       "  'Church',\n",
       "  ',',\n",
       "  'located',\n",
       "  'on',\n",
       "  'what',\n",
       "  'is',\n",
       "  'now',\n",
       "  'lower',\n",
       "  'Broadway',\n",
       "  'in',\n",
       "  'Manhattan',\n",
       "  '.'],\n",
       " ['There', 'were', 'eight', 'students', 'in', 'the', 'class', '.'],\n",
       " ['At',\n",
       "  'King',\n",
       "  \"'s\",\n",
       "  'College',\n",
       "  ',',\n",
       "  'the',\n",
       "  'future',\n",
       "  'leaders',\n",
       "  'of',\n",
       "  'colonial',\n",
       "  'society',\n",
       "  'could',\n",
       "  'receive',\n",
       "  'an',\n",
       "  'education',\n",
       "  'designed',\n",
       "  'to',\n",
       "  \"'enlarge\",\n",
       "  'the',\n",
       "  'Mind',\n",
       "  ',',\n",
       "  'improve',\n",
       "  'the',\n",
       "  'Understanding',\n",
       "  ',',\n",
       "  'polish',\n",
       "  'the',\n",
       "  'whole',\n",
       "  'Man',\n",
       "  ',',\n",
       "  'and',\n",
       "  'qualify',\n",
       "  'them',\n",
       "  'to',\n",
       "  'support',\n",
       "  'the',\n",
       "  'brightest',\n",
       "  'Characters',\n",
       "  'in',\n",
       "  'all',\n",
       "  'the',\n",
       "  'elevated',\n",
       "  'stations',\n",
       "  'in',\n",
       "  'life',\n",
       "  '.',\n",
       "  \"''\"],\n",
       " ['One',\n",
       "  'early',\n",
       "  'manifestation',\n",
       "  'of',\n",
       "  'the',\n",
       "  'institution',\n",
       "  \"'s\",\n",
       "  'lofty',\n",
       "  'goals',\n",
       "  'was',\n",
       "  'the',\n",
       "  'establishment',\n",
       "  'in',\n",
       "  '1767',\n",
       "  'of',\n",
       "  'the',\n",
       "  'first',\n",
       "  'American',\n",
       "  'medical',\n",
       "  'school',\n",
       "  'to',\n",
       "  'grant',\n",
       "  'the',\n",
       "  'M.D',\n",
       "  '.',\n",
       "  'degree',\n",
       "  '.']]"
      ]
     },
     "execution_count": 16,
     "metadata": {},
     "output_type": "execute_result"
    }
   ],
   "source": [
    "import nltk\n",
    " \n",
    "tokes = []\n",
    "for i in sentences:\n",
    "    tokens = nltk.word_tokenize(i)\n",
    "    tokes.append(tokens)\n",
    "    \n",
    "for i in "
   ]
  },
  {
   "cell_type": "markdown",
   "metadata": {},
   "source": [
    "E.g: Paracetamol helps treat hay fever. \n",
    "\n",
    "          treatment\n",
    "Paracetamol -----------> Hay fever"
   ]
  },
  {
   "cell_type": "markdown",
   "metadata": {},
   "source": [
    "## Chunking\n",
    "\n",
    "Chunking is used for entity recognition and segments and labels multitoken sequences. This typically involves segmenting multi-token sequences and labeling them with entity types, such as 'person', 'organization', or 'time'. \n",
    "\n",
    "### Noun Phrase Chunking\n",
    "\n",
    "Noun Phrase Chunking, or NP-Chunking, is where we search for chunks corresponding to individual noun phrases.\n",
    "\n",
    "We can use nltk, as is the case most of the time, to create a chunk parser. We begin with importing nltk and defining a sentence with its parts-of-speeches tagged (which we covered in the previous tutorial). \n",
    "\n"
   ]
  },
  {
   "cell_type": "code",
   "execution_count": null,
   "metadata": {
    "collapsed": true
   },
   "outputs": [],
   "source": [
    "import nltk \n",
    "sentence = [(\"the\", \"DT\"), (\"little\", \"JJ\"), (\"yellow\", \"JJ\"), (\"dog\", \"NN\"), (\"barked\", \"VBD\"), (\"at\", \"IN\"), (\"the\", \"DT\"), (\"cat\", \"NN\")]"
   ]
  },
  {
   "cell_type": "markdown",
   "metadata": {},
   "source": [
    "Next, we define the tag pattern of an NP chunk. A tag pattern is a sequence of part-of-speech tags delimited using angle brackets, e.g. `<DT>?<JJ>*<NN>`. This is how the parse tree for a given sentence is acquired.  \n",
    "\n"
   ]
  },
  {
   "cell_type": "code",
   "execution_count": null,
   "metadata": {
    "collapsed": true
   },
   "outputs": [],
   "source": [
    "pattern = \"NP: {<DT>?<JJ>*<NN>}\" "
   ]
  },
  {
   "cell_type": "markdown",
   "metadata": {},
   "source": [
    "Finally we create the chunk parser with the nltk RegexpParser() class."
   ]
  },
  {
   "cell_type": "code",
   "execution_count": null,
   "metadata": {},
   "outputs": [],
   "source": [
    "NPChunker = nltk.RegexpParser(pattern) "
   ]
  },
  {
   "cell_type": "code",
   "execution_count": null,
   "metadata": {
    "collapsed": true
   },
   "outputs": [],
   "source": [
    "result = NPChunker.parse(sentence) \n",
    "result.draw()"
   ]
  },
  {
   "cell_type": "markdown",
   "metadata": {},
   "source": []
  },
  {
   "cell_type": "markdown",
   "metadata": {},
   "source": [
    "\n"
   ]
  },
  {
   "cell_type": "markdown",
   "metadata": {},
   "source": []
  },
  {
   "cell_type": "code",
   "execution_count": null,
   "metadata": {
    "collapsed": true
   },
   "outputs": [],
   "source": []
  }
 ],
 "metadata": {
  "kernelspec": {
   "display_name": "Python 3",
   "language": "python",
   "name": "python3"
  },
  "language_info": {
   "codemirror_mode": {
    "name": "ipython",
    "version": 3
   },
   "file_extension": ".py",
   "mimetype": "text/x-python",
   "name": "python",
   "nbconvert_exporter": "python",
   "pygments_lexer": "ipython3",
   "version": "3.6.4"
  }
 },
 "nbformat": 4,
 "nbformat_minor": 2
}
